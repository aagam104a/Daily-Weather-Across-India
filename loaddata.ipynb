{
 "cells": [
  {
   "cell_type": "code",
   "execution_count": 1,
   "metadata": {},
   "outputs": [],
   "source": [
    "import pandas as pd\n",
    "import os\n",
    "import opendatasets as od"
   ]
  },
  {
   "cell_type": "code",
   "execution_count": 2,
   "metadata": {},
   "outputs": [
    {
     "data": {
      "text/plain": [
       "<bound method DataFrame.info of        country location_name          region  latitude  longitude  \\\n",
       "0        India    Ashoknagar  Madhya Pradesh     24.57      77.72   \n",
       "1        India        Raisen  Madhya Pradesh     23.33      77.80   \n",
       "2        India    Chhindwara  Madhya Pradesh     22.07      78.93   \n",
       "3        India         Betul  Madhya Pradesh     21.86      77.93   \n",
       "4        India   Hoshangabad  Madhya Pradesh     22.75      77.72   \n",
       "...        ...           ...             ...       ...        ...   \n",
       "116106   India        Niwari   Uttar Pradesh     28.88      77.53   \n",
       "116107   India       Saitual         Mizoram     23.97      92.58   \n",
       "116108   India       Ranipet      Tamil Nadu     12.93      79.33   \n",
       "116109   India       Tenkasi      Tamil Nadu      8.97      77.30   \n",
       "116110   India        Pendra    Chhattisgarh     22.77      81.95   \n",
       "\n",
       "            timezone  last_updated_epoch      last_updated  \\\n",
       "0       Asia/Kolkata          1693286100  2023-08-29 10:45   \n",
       "1       Asia/Kolkata          1693286100  2023-08-29 10:45   \n",
       "2       Asia/Kolkata          1693286100  2023-08-29 10:45   \n",
       "3       Asia/Kolkata          1693286100  2023-08-29 10:45   \n",
       "4       Asia/Kolkata          1693286100  2023-08-29 10:45   \n",
       "...              ...                 ...               ...   \n",
       "116106  Asia/Kolkata          1711900800  2024-03-31 21:30   \n",
       "116107  Asia/Kolkata          1711900800  2024-03-31 21:30   \n",
       "116108  Asia/Kolkata          1711900800  2024-03-31 21:30   \n",
       "116109  Asia/Kolkata          1711900800  2024-03-31 21:30   \n",
       "116110  Asia/Kolkata          1711900800  2024-03-31 21:30   \n",
       "\n",
       "        temperature_celsius  temperature_fahrenheit  ... air_quality_PM2.5  \\\n",
       "0                      27.5                    81.5  ...              12.6   \n",
       "1                      27.5                    81.5  ...              10.7   \n",
       "2                      26.3                    79.3  ...              16.8   \n",
       "3                      25.6                    78.1  ...               4.9   \n",
       "4                      27.2                    81.0  ...              11.4   \n",
       "...                     ...                     ...  ...               ...   \n",
       "116106                 29.0                    84.2  ...              29.1   \n",
       "116107                 16.8                    62.2  ...              53.4   \n",
       "116108                 26.7                    80.1  ...              15.2   \n",
       "116109                 30.0                    86.0  ...              16.7   \n",
       "116110                 27.2                    81.0  ...              34.7   \n",
       "\n",
       "        air_quality_PM10  air_quality_us-epa-index  \\\n",
       "0                   18.5                         1   \n",
       "1                   14.2                         1   \n",
       "2                   20.7                         2   \n",
       "3                    6.6                         1   \n",
       "4                   14.8                         1   \n",
       "...                  ...                       ...   \n",
       "116106              54.3                         2   \n",
       "116107              64.1                         3   \n",
       "116108              19.8                         1   \n",
       "116109              20.1                         2   \n",
       "116110              39.2                         2   \n",
       "\n",
       "        air_quality_gb-defra-index   sunrise    sunset     moonrise   moonset  \\\n",
       "0                                2  05:59 AM  06:41 PM     05:42 PM  03:38 AM   \n",
       "1                                1  06:00 AM  06:40 PM     05:39 PM  03:41 AM   \n",
       "2                                2  05:56 AM  06:34 PM     05:32 PM  03:39 AM   \n",
       "3                                1  06:00 AM  06:38 PM     05:36 PM  03:43 AM   \n",
       "4                                1  06:01 AM  06:39 PM     05:38 PM  03:42 AM   \n",
       "...                            ...       ...       ...          ...       ...   \n",
       "116106                           3  06:11 AM  06:37 PM  No moonrise  09:38 AM   \n",
       "116107                           6  05:13 AM  05:36 PM     11:12 PM  08:49 AM   \n",
       "116108                           2  06:09 AM  06:24 PM     11:39 PM  10:11 AM   \n",
       "116109                           2  06:19 AM  06:31 PM     11:38 PM  10:28 AM   \n",
       "116110                           3  06:27 AM  06:48 PM  No moonrise  10:11 AM   \n",
       "\n",
       "            moon_phase  moon_illumination  \n",
       "0       Waxing Gibbous                 93  \n",
       "1       Waxing Gibbous                 93  \n",
       "2       Waxing Gibbous                 93  \n",
       "3       Waxing Gibbous                 93  \n",
       "4       Waxing Gibbous                 93  \n",
       "...                ...                ...  \n",
       "116106  Waning Gibbous                 72  \n",
       "116107  Waning Gibbous                 72  \n",
       "116108  Waning Gibbous                 72  \n",
       "116109  Waning Gibbous                 72  \n",
       "116110  Waning Gibbous                 72  \n",
       "\n",
       "[116111 rows x 42 columns]>"
      ]
     },
     "execution_count": 2,
     "metadata": {},
     "output_type": "execute_result"
    }
   ],
   "source": [
    "df = pd.read_csv('indian-weather-repository-daily-snapshot\\IndianWeatherRepository.csv')\n",
    "df.info"
   ]
  },
  {
   "cell_type": "code",
   "execution_count": 3,
   "metadata": {},
   "outputs": [
    {
     "data": {
      "text/plain": [
       "Index(['country', 'location_name', 'region', 'latitude', 'longitude',\n",
       "       'timezone', 'last_updated_epoch', 'last_updated', 'temperature_celsius',\n",
       "       'temperature_fahrenheit', 'condition_text', 'wind_mph', 'wind_kph',\n",
       "       'wind_degree', 'wind_direction', 'pressure_mb', 'pressure_in',\n",
       "       'precip_mm', 'precip_in', 'humidity', 'cloud', 'feels_like_celsius',\n",
       "       'feels_like_fahrenheit', 'visibility_km', 'visibility_miles',\n",
       "       'uv_index', 'gust_mph', 'gust_kph', 'air_quality_Carbon_Monoxide',\n",
       "       'air_quality_Ozone', 'air_quality_Nitrogen_dioxide',\n",
       "       'air_quality_Sulphur_dioxide', 'air_quality_PM2.5', 'air_quality_PM10',\n",
       "       'air_quality_us-epa-index', 'air_quality_gb-defra-index', 'sunrise',\n",
       "       'sunset', 'moonrise', 'moonset', 'moon_phase', 'moon_illumination'],\n",
       "      dtype='object')"
      ]
     },
     "execution_count": 3,
     "metadata": {},
     "output_type": "execute_result"
    }
   ],
   "source": [
    "df.columns"
   ]
  },
  {
   "cell_type": "code",
   "execution_count": 8,
   "metadata": {},
   "outputs": [
    {
     "data": {
      "image/png": "[encoded data removed]",
      "text/plain": [
       "<Figure size 640x480 with 1 Axes>"
      ]
     },
     "metadata": {},
     "output_type": "display_data"
    }
   ],
   "source": [
    "import matplotlib.pyplot as plt\n",
    "\n",
    "plt.hist(df['temperature_celsius'])\n",
    "plt.show()"
   ]
  }
 ],
 "metadata": {
  "kernelspec": {
   "display_name": "venv",
   "language": "python",
   "name": "python3"
  },
  "language_info": {
   "codemirror_mode": {
    "name": "ipython",
    "version": 3
   },
   "file_extension": ".py",
   "mimetype": "text/x-python",
   "name": "python",
   "nbconvert_exporter": "python",
   "pygments_lexer": "ipython3",
   "version": "3.9.2rc1"
  }
 },
 "nbformat": 4,
 "nbformat_minor": 2
}
